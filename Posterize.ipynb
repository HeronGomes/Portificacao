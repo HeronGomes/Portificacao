{
 "cells": [
  {
   "cell_type": "code",
   "execution_count": 3,
   "id": "6ce17d7f",
   "metadata": {},
   "outputs": [],
   "source": [
    "from PIL import Image, ImageOps"
   ]
  },
  {
   "cell_type": "code",
   "execution_count": 10,
   "id": "277f8ad1",
   "metadata": {},
   "outputs": [],
   "source": [
    "im1 = Image.open(r\"./dataset/Bilhorod_Dnistrovskyi.jpg\") \n",
    "im1 = ImageOps.grayscale(im1)\n",
    "im2 = ImageOps.posterize(im1, 1) \n",
    "im2.show()"
   ]
  },
  {
   "cell_type": "code",
   "execution_count": 64,
   "id": "3c8c0d04",
   "metadata": {},
   "outputs": [],
   "source": [
    "import numpy as np\n",
    "import cv2 as cv\n",
    "from pathlib import Path"
   ]
  },
  {
   "cell_type": "code",
   "execution_count": 81,
   "id": "bc0690de",
   "metadata": {},
   "outputs": [],
   "source": [
    "def segmentacao_cluster(img,k=2,gray_scale=False):  \n",
    "   \n",
    "    if gray_scale:\n",
    "        img = cv.cvtColor(img,cv.COLOR_BGR2GRAY)\n",
    "        vetorizado = np.float32(img).reshape(-1,1)\n",
    "        vetorizado = np.float32(img).reshape(-1,1)\n",
    "        shape = img.shape\n",
    "        \n",
    "    else:\n",
    "        vetorizado = np.float32(img).reshape(-1,3)\n",
    "        vetorizado = np.float32(img).reshape(-1,3)\n",
    "        shape = img.shape\n",
    "        \n",
    "    criterio = (cv.TERM_CRITERIA_EPS + cv.TERM_CRITERIA_MAX_ITER,20,1.0)\n",
    "    ret,label,centros = cv.kmeans(vetorizado,k,None,criterio,10,cv.KMEANS_RANDOM_CENTERS)\n",
    "    centros = np.uint8(centros)\n",
    "    img_final = centros[label.flatten()]\n",
    "    img_final = img_final.reshape(shape)\n",
    "    img_final = cv.resize(img_final,(500,500))\n",
    "    #img_final = cv.cvtColor(img_final,cv.COLOR_RGB2BGR)\n",
    "    return img_final"
   ]
  },
  {
   "cell_type": "code",
   "execution_count": 152,
   "id": "b736ad4d",
   "metadata": {},
   "outputs": [],
   "source": [
    "file_name = \"Zhmerynka.jpg\"\n",
    "input_path = \"./dataset/\"+file_name\n",
    "output_path = \"./OUT/\"+file_name\n",
    "img = cv.imread(input_path)"
   ]
  },
  {
   "cell_type": "code",
   "execution_count": 162,
   "id": "f09741c3",
   "metadata": {},
   "outputs": [
    {
     "data": {
      "text/plain": [
       "True"
      ]
     },
     "execution_count": 162,
     "metadata": {},
     "output_type": "execute_result"
    }
   ],
   "source": [
    "imagem_final = segmentacao_cluster(img,8)\n",
    "cv.imshow('Final',imagem_final)\n",
    "cv.waitKey()\n",
    "cv.destroyAllWindows()\n",
    "cv.imwrite(output_path,imagem_final)"
   ]
  },
  {
   "cell_type": "code",
   "execution_count": null,
   "id": "a5cc4783",
   "metadata": {},
   "outputs": [],
   "source": []
  }
 ],
 "metadata": {
  "kernelspec": {
   "display_name": "Python 3 (ipykernel)",
   "language": "python",
   "name": "python3"
  },
  "language_info": {
   "codemirror_mode": {
    "name": "ipython",
    "version": 3
   },
   "file_extension": ".py",
   "mimetype": "text/x-python",
   "name": "python",
   "nbconvert_exporter": "python",
   "pygments_lexer": "ipython3",
   "version": "3.9.7"
  }
 },
 "nbformat": 4,
 "nbformat_minor": 5
}
